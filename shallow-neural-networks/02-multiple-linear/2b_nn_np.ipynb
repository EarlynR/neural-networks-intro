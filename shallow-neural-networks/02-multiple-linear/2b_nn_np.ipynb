{
 "cells": [
  {
   "cell_type": "markdown",
   "metadata": {},
   "source": [
    "# Multiple Linear Regression using Gradient Descent\n",
    "\n",
    "In the last notebook, we walked through a high level overview of using gradient descent to solve our multiple linear regression problem. After building in a little more detail and calculating the derivatives that we'll need to perform the update steps, we'll code it up in `numpy`. \n",
    "\n",
    "## Gradient Descent for Multiple Linear Regression\n",
    "\n",
    "### Gradient Descent Procedure \n",
    "\n",
    "With gradient descent, we'll do the following: \n",
    "\n",
    "1. Randomly initialize values for our coefficients: \n",
    "<img src=\"../imgs/variables/beta0.png\" style=\"vertical-align: text-middle; display: inline-block; padding-top:0; margin-top:0;\" width=20 \\>, \n",
    "<img src=\"../imgs/variables/beta1.png\" style=\"vertical-align: text-middle; display: inline-block; padding-top:0; margin-top:0;\" width=22 \\> , \n",
    "<img src=\"../imgs/variables/beta2.png\" style=\"vertical-align: text-middle; display: inline-block; padding-top:0; margin-top:0;\" width=19 \\> , and\n",
    "<img src=\"../imgs/variables/beta3.png\" style=\"vertical-align: text-middle; display: inline-block; padding-top:0; margin-top:0;\" width=18 \\>. \n",
    "\n",
    "2. While we haven't met some stopping condition:   \n",
    " A. Calculate our predicted outcomes, \n",
    "<img src=\"../imgs/variables/yhat.png\" style=\"vertical-align: text-middle; display: inline-block; padding-top:0; margin-top:0;\" width=13 \\>.  \n",
    " B. Calculate the error for each observation using the true values\n",
    "<img src=\"../imgs/variables/yi.png\" style=\"vertical-align: text-middle; display: inline-block; padding-top:0; margin-top:0;\" width=17 \\>, \n",
    "our predicted values \n",
    "<img src=\"../imgs/variables/yhati.png\" style=\"vertical-align: text-middle; display: inline-block; padding-top:0; margin-top:0;\" width=16 \\>, \n",
    "and our error formula: \n",
    "<img src=\"../imgs/equations/ind_squared_error.png\" width=110 \\>      \n",
    " C. For each observation, calculate the gradient of the error with respect to each one of our coefficients (\n",
    "<img src=\"../imgs/derivatives/ei_beta0.png\" style=\"vertical-align: text-middle; display: inline-block; padding-top:0; margin-top:0;\" width=30\\>, \n",
    "<img src=\"../imgs/derivatives/ei_beta1.png\" style=\"vertical-align: text-middle; display: inline-block; padding-top:0; margin-top:0;\" width=30\\>, \n",
    "<img src=\"../imgs/derivatives/ei_beta2.png\" style=\"vertical-align: text-middle; display: inline-block; padding-top:0; margin-top:0;\" width=30\\>, \n",
    "<img src=\"../imgs/derivatives/ei_beta3.png\" style=\"vertical-align: text-middle; display: inline-block; padding-top:0; margin-top:0;\" width=30\\>\n",
    "), and then use the average across observations to update the coefficients (\n",
    "<img src=\"../imgs/variables/alpha.png\" style=\"vertical-align: text-middle; display: inline-block; padding-top:0; margin-top:0;\" width=15\\>\n",
    " is the learning rate): \n",
    "<img src=\"../imgs/updates/beta0_simp_linear_update.png\" width=150 \\>\n",
    "<img src=\"../imgs/updates/beta1_simp_linear_update.png\" width=150 \\>\n",
    "<img src=\"../imgs/updates/beta2_simp_linear_update.png\" width=150 \\>\n",
    "<img src=\"../imgs/updates/beta3_simp_linear_update.png\" width=150 \\>\n",
    "\n",
    "### Derivative Calculations\n",
    "\n",
    "To calculate the gradients for each observation in 2C, we'll use the chain rule that we looked at last notebook: \n",
    "\n",
    "<img src=\"../imgs/derivatives/ei_beta0_chain.png\" width=120\\>\n",
    "<img src=\"../imgs/derivatives/ei_beta1_chain.png\" width=120\\>\n",
    "<img src=\"../imgs/derivatives/ei_beta2_chain.png\" width=120\\>\n",
    "<img src=\"../imgs/derivatives/ei_beta3_chain.png\" width=120\\>\n",
    "\n",
    "We can break these equations down into calculating each of the individual pieces - \n",
    "<img src=\"../imgs/derivatives/ei_yi.png\" style=\"vertical-align: text-middle; display: inline-block; padding-top:0; margin-top:0\" width=30\\>, \n",
    "<img src=\"../imgs/derivatives/yhati_beta0.png\" style=\"vertical-align: text-middle; display: inline-block; padding-top:0; margin-top:0\" width=30\\>, \n",
    "<img src=\"../imgs/derivatives/yhati_beta1.png\" style=\"vertical-align: text-middle; display: inline-block; padding-top:0; margin-top:0\" width=30\\>\n",
    "<img src=\"../imgs/derivatives/yhati_beta2.png\" style=\"vertical-align: text-middle; display: inline-block; padding-top:0; margin-top:0\" width=30\\>, \n",
    "<img src=\"../imgs/derivatives/yhati_beta3.png\" style=\"vertical-align: text-middle; display: inline-block; padding-top:0; margin-top:0\" width=35\\>. We can calculate those as follows: \n",
    "\n",
    "<img src=\"../imgs/derivatives/ei_yi_soln.png\" width=275 \\>\n",
    "<img src=\"../imgs/derivatives/yhati_beta0_soln.png\" width=75 \\>\n",
    "<img src=\"../imgs/derivatives/yhati_beta1_soln.png\" width=90 \\>\n",
    "<img src=\"../imgs/derivatives/yhati_beta2_soln.png\" width=90 \\>\n",
    "<img src=\"../imgs/derivatives/yhati_beta3_soln.png\" width=90 \\>\n",
    "\n",
    "If we plug these back into the original equations, we can obtain our full updates for step 2C: \n",
    "\n",
    "<img src=\"../imgs/derivatives/ei_beta0_chain_soln.png\" width=350\\>\n",
    "<img src=\"../imgs/derivatives/ei_beta1_chain_soln.png\" width=290\\>\n",
    "<img src=\"../imgs/derivatives/ei_beta2_chain_soln.png\" width=290\\>\n",
    "<img src=\"../imgs/derivatives/ei_beta3_chain_soln.png\" width=290\\>\n",
    "\n",
    "Now, let's code this up! \n",
    "\n",
    "## Multiple Linear Regression using Gradient Descent with `numpy`\n",
    "\n",
    "To demonstrate using gradient descent to solve our multiple linear regression problem, we'll use the `gen_multiple_linear` function from the `datasets/general.py` script to generate some toy data that follows a multivariate linear relationship with three variables. We'll input a `1d numpy array` of betas as well as a number of observations, and it will output data that follows a multivariate linear relationship (\n",
    "<img src=\"../imgs/equations/mult_linear_3_feats.png\" width=120 style=\"vertical-align: text-middle; display: inline-block; padding-top:0; margin-top:0;\" \\> ). \n",
    "With this data, we'll use gradient descent to learn the values for our coefficients. \n",
    "\n",
    "In solving our multiple linear regression problem, we'll work exclusively with vectors and matrices. Instead of having individual beta coefficients (like we did with `beta_0` and `beta_1` in simple linear regression), we'll have a beta vector that will hold each of our betas. This means that the first column of the `xs` matrix returned from `gen_multiple_linear` will be a vector of 1's that will be lined up with our \n",
    "<img src=\"../imgs/variables/beta0.png\" style=\"vertical-align: text-middle; display: inline-block; padding-top:0; margin-top:0;\" width=20 \\>. Aside from this, our solution for multiple linear regression will look largely the same as our solution for simple linear regression. "
   ]
  },
  {
   "cell_type": "code",
   "execution_count": 1,
   "metadata": {
    "collapsed": true
   },
   "outputs": [],
   "source": [
    "import numpy as np\n",
    "from datasets.general import gen_multiple_linear\n",
    "from utils.plotting import plot_errors\n",
    "%matplotlib inline"
   ]
  },
  {
   "cell_type": "code",
   "execution_count": 2,
   "metadata": {
    "collapsed": false
   },
   "outputs": [],
   "source": [
    "def learn_w_gradient_descent(xs, ys): \n",
    "    learning_rate = 0.1\n",
    "    # Step 1 - randomly initialize values for our coefficients.  \n",
    "    betas_array = np.random.random(size=4)\n",
    "        \n",
    "    mses = [] # mean-squared-errors list to keep track of errors over iterations\n",
    "    for _ in range(5000): \n",
    "        # Step 2A - calculate our predicted outcomes. \n",
    "        yhats = xs.dot(betas_array)\n",
    "        yhats = yhats.reshape(len(yhats), 1) # Force `yhats` to have a second \n",
    "                                             # dimension for later calculations.\n",
    "        \n",
    "        # Step 2B - calculate our errors. \n",
    "        diffs = (ys - yhats)\n",
    "        es = 0.5 * (diffs ** 2)\n",
    "        mses.append(es.mean())\n",
    "        \n",
    "        # Step 2C - calculate the gradient of the error with respect to the coefficients, \n",
    "        # and use it to update the coefficients. \n",
    "        d_betas_array = -diffs * xs\n",
    "        betas_array -= learning_rate * d_betas_array.mean(axis=0)\n",
    "        \n",
    "    return mses"
   ]
  },
  {
   "cell_type": "code",
   "execution_count": 3,
   "metadata": {
    "collapsed": false
   },
   "outputs": [
    {
     "name": "stdout",
     "output_type": "stream",
     "text": [
      "Final Error: 6.54145011504761e-22\n"
     ]
    },
    {
     "data": {
      "image/png": "[encoded data removed]",
      "text/plain": [
       "<matplotlib.figure.Figure at 0x10a784630>"
      ]
     },
     "metadata": {},
     "output_type": "display_data"
    }
   ],
   "source": [
    "# Randomly generate our betas and number of observations, used to generate \n",
    "# fake data to fit. We should have a minimum of 4 obs, since we have \n",
    "# four coefficients. \n",
    "true_betas_array = np.random.randint(2, 10, size=4)\n",
    "n_obs = np.random.randint(9500, 10500) \n",
    "\n",
    "# Generate the data that follows a linear relationship specified \n",
    "# by our `true_betas_array`. \n",
    "xs, ys = gen_multiple_linear(true_betas_array, n_obs)\n",
    "\n",
    "# Learn the coefficients using gradient descent. \n",
    "mean_squared_errors = learn_w_gradient_descent(xs, ys)\n",
    "# Skip the first 100 values because it pulls the y-axis up quite a bit. \n",
    "plot_errors(mean_squared_errors, iterations=(100, 5000))\n",
    "print(\"Final Error: {}\".format(mean_squared_errors[-1]))"
   ]
  },
  {
   "cell_type": "markdown",
   "metadata": {},
   "source": [
    "Just as with simple linear regression, we see that we can in fact solve multiple linear regression using gradient descent. If we run it multiple times, we see that we can achieve effectively 0 mean squared error each time. We could also play around with the `learning_rate` to see how that changes the mean-squared-errors, and/or look at different subests of the `mean_squared_errors` list (iterations ~300-1000 are much more interesting to look at). \n",
    "\n",
    "Viewing multiple linear regression as a computational graph and solving it via gradient descent will help set the stage for understanding complicated neural network architectures that we'll look at in subsequent notebooks. Most (if not all) neural networks can be viewed as having a **forward** and **backward** propagation step where we can use some flavor of gradient descent to update and learn our coefficients (often called weights in neural network land).\n",
    "\n",
    "We'll now move on to coding this up using `theano`, a python library that allows us to define computational graphs and benefit from automatic differentiation. Libraries like this will be extremely useful when building incredibly complicated neural networks for which it is difficult and time consuming to derive the update rules by hand. "
   ]
  }
 ],
 "metadata": {
  "anaconda-cloud": {},
  "kernelspec": {
   "display_name": "Python [Root]",
   "language": "python",
   "name": "Python [Root]"
  },
  "language_info": {
   "codemirror_mode": {
    "name": "ipython",
    "version": 3
   },
   "file_extension": ".py",
   "mimetype": "text/x-python",
   "name": "python",
   "nbconvert_exporter": "python",
   "pygments_lexer": "ipython3",
   "version": "3.5.2"
  }
 },
 "nbformat": 4,
 "nbformat_minor": 0
}
